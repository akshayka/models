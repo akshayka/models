{
  "nbformat": 4,
  "nbformat_minor": 0,
  "metadata": {
    "colab": {
      "name": "Eager Execution: Dev Summit 2018",
      "version": "0.3.2",
      "views": {},
      "default_view": {},
      "provenance": [],
      "collapsed_sections": []
    },
    "kernelspec": {
      "name": "python3",
      "display_name": "Python 3"
    }
  },
  "cells": [
    {
      "metadata": {
        "id": "g7nGs4mzVUHP",
        "colab_type": "text"
      },
      "cell_type": "markdown",
      "source": [
        "# Eager execution\n",
        "**TensorFlow Dev Summit, 2018.**\n",
        "\n",
        "This interactive notebook demonstrates **eager execution**, TensorFlow's imperative, NumPy-like front-end for machine learning.\n",
        "\n",
        "> ![alt text](https://lh3.googleusercontent.com/QOvy0clmg7siaVKzwmSPAjicWWNQ0OeyaB16plDjSJMf35WD3vLjF6mz4CGrhSHw60HnlZPJjkyDCBzw5XOI0oBGSewyYw=s688)\n",
        "\n",
        "**Table of Contents.**\n",
        "1. _Enabling eager execution!_\n",
        "2. _A NumPy-like library for numerical computation and machine learning. Case study: Fitting a huber regression_.\n",
        "3. _Neural networks. Case study: Training a multi-layer RNN._\n",
        "4. _Exercises: Batching; debugging._\n",
        "5. _Further reading_"
      ]
    },
    {
      "metadata": {
        "id": "ZVKfj5ttVkqz",
        "colab_type": "text"
      },
      "cell_type": "markdown",
      "source": [
        "# 1. Enabling eager execution!\n",
        "\n",
        "A single function call is all you need to enable eager execution: `tf.enable_eager_execution()`. You should invoke this function before calling into any other TensorFlow APIs --- the simplest way to satisfy this requirement is to make `tf.enable_eager_execution()` the first line of your `main` function.\n"
      ]
    },
    {
      "metadata": {
        "id": "C783D4QKVlK1",
        "colab_type": "code",
        "colab": {
          "autoexec": {
            "startup": false,
            "wait_interval": 0
          }
        }
      },
      "cell_type": "code",
      "source": [
        "!pip install -q -U tf-nightly\n",
        "\n",
        "import tensorflow as tf\n",
        "\n",
        "tf.enable_eager_execution()"
      ],
      "execution_count": 0,
      "outputs": []
    },
    {
      "metadata": {
        "id": "trrHQBM1VnD0",
        "colab_type": "text"
      },
      "cell_type": "markdown",
      "source": [
        "# 2. A NumPy-like library for numerical computation and machine learning\n",
        "Enabling eager execution transforms TensorFlow into an **imperative** library for numerical computation, automatic differentiation, and machine learning. When executing eagerly, _TensorFlow no longer behaves like a dataflow graph engine_: Tensors are backed by NumPy arrays (goodbye, placeholders!), and TensorFlow operations execute *immediately* via Python (goodbye, sessions!)."
      ]
    },
    {
      "metadata": {
        "id": "MLUSuZuccgmF",
        "colab_type": "text"
      },
      "cell_type": "markdown",
      "source": [
        "### Numpy-like usage\n",
        "\n",
        "Tensors are backed by numpy arrays, which are accessible via their `.numpy()`\n",
        "method."
      ]
    },
    {
      "metadata": {
        "id": "lzrktlC0cPi1",
        "colab_type": "code",
        "colab": {
          "autoexec": {
            "startup": false,
            "wait_interval": 0
          }
        }
      },
      "cell_type": "code",
      "source": [
        "A = tf.constant([[2.0, 0.0], [0.0, 3.0]])"
      ],
      "execution_count": 0,
      "outputs": []
    },
    {
      "metadata": {
        "id": "F5oDeGhYcX6c",
        "colab_type": "code",
        "colab": {
          "autoexec": {
            "startup": false,
            "wait_interval": 0
          },
          "output_extras": [
            {
              "item_id": 1
            }
          ],
          "base_uri": "https://localhost:8080/",
          "height": 170
        },
        "outputId": "4c087e5e-e4c0-46c1-bfd4-acc8c96fbf3b",
        "executionInfo": {
          "status": "ok",
          "timestamp": 1522345789348,
          "user_tz": 420,
          "elapsed": 317,
          "user": {
            "displayName": "Akshay Agrawal",
            "photoUrl": "//lh4.googleusercontent.com/-Dxv7XqYbfoI/AAAAAAAAAAI/AAAAAAAAAN8/oFytAVJhTgY/s50-c-k-no/photo.jpg",
            "userId": "105384727845522134432"
          }
        }
      },
      "cell_type": "code",
      "source": [
        "import numpy as np\n",
        "\n",
        "print(\"Tensors are backed by NumPy arrays, which are accessible through their \"\n",
        "      \"`.numpy()` method:\\n\", A)\n",
        "assert(type(A.numpy()) == np.ndarray)\n",
        "print(\"\\nOperations (like `tf.matmul(A, A)`) execute \"\n",
        "      \"immediately (no more Sessions!):\\n\", tf.matmul(A, A))"
      ],
      "execution_count": 3,
      "outputs": [
        {
          "output_type": "stream",
          "text": [
            "Tensors are backed by NumPy arrays, which are accessible through their `.numpy()` method:\n",
            " tf.Tensor(\n",
            "[[2. 0.]\n",
            " [0. 3.]], shape=(2, 2), dtype=float32)\n",
            "\n",
            "Operations (like `tf.matmul(A, A)`) execute immediately (no more Sessions!):\n",
            " tf.Tensor(\n",
            "[[4. 0.]\n",
            " [0. 9.]], shape=(2, 2), dtype=float32)\n"
          ],
          "name": "stdout"
        }
      ]
    },
    {
      "metadata": {
        "id": "SRCTcyCocvBq",
        "colab_type": "text"
      },
      "cell_type": "markdown",
      "source": [
        "Tensors behave similarly to NumPy arrays, but they don't behave exactly the\n",
        "same. \n",
        "\n",
        "For example, Tensors don't implement the equals operator in the natural\n",
        "way."
      ]
    },
    {
      "metadata": {
        "id": "OgBX6BJdcZ8w",
        "colab_type": "code",
        "colab": {
          "autoexec": {
            "startup": false,
            "wait_interval": 0
          },
          "output_extras": [
            {
              "item_id": 1
            }
          ],
          "base_uri": "https://localhost:8080/",
          "height": 119
        },
        "outputId": "3da44ad0-1122-4e3d-de76-3debb6800f3f",
        "executionInfo": {
          "status": "ok",
          "timestamp": 1522345790360,
          "user_tz": 420,
          "elapsed": 340,
          "user": {
            "displayName": "Akshay Agrawal",
            "photoUrl": "//lh4.googleusercontent.com/-Dxv7XqYbfoI/AAAAAAAAAAI/AAAAAAAAAN8/oFytAVJhTgY/s50-c-k-no/photo.jpg",
            "userId": "105384727845522134432"
          }
        }
      },
      "cell_type": "code",
      "source": [
        "print(\"\\nTensors behave like NumPy arrays: you can iterate over them and \"\n",
        "      \"supply them as inputs to most functions that expect NumPy arrays:\")\n",
        "for i, row in enumerate(A):\n",
        "  for j, entry in enumerate(row):\n",
        "    print(\"A[%d, %d]^2 == %d\" % (i, j, np.square(entry)))"
      ],
      "execution_count": 4,
      "outputs": [
        {
          "output_type": "stream",
          "text": [
            "\n",
            "Tensors behave like NumPy arrays: you can iterate over them and supply them as inputs to most functions that expect NumPy arrays:\n",
            "A[0, 0]^2 == 4\n",
            "A[0, 1]^2 == 0\n",
            "A[1, 0]^2 == 0\n",
            "A[1, 1]^2 == 9\n"
          ],
          "name": "stdout"
        }
      ]
    },
    {
      "metadata": {
        "id": "Q-o-XayRdAEi",
        "colab_type": "text"
      },
      "cell_type": "markdown",
      "source": [
        "### Variables and Gradients\n",
        "\n",
        "Create variables with `tf.contrib.eager.Variable`, and use `tf.GradientTape`\n",
        "to compute gradients with respect to them."
      ]
    },
    {
      "metadata": {
        "id": "PGAqOzqzccwd",
        "colab_type": "code",
        "colab": {
          "autoexec": {
            "startup": false,
            "wait_interval": 0
          },
          "output_extras": [
            {
              "item_id": 2
            }
          ],
          "base_uri": "https://localhost:8080/",
          "height": 119
        },
        "outputId": "c4c0043a-0b48-493a-d58c-6f4849d93c25",
        "executionInfo": {
          "status": "ok",
          "timestamp": 1522345797331,
          "user_tz": 420,
          "elapsed": 6352,
          "user": {
            "displayName": "Akshay Agrawal",
            "photoUrl": "//lh4.googleusercontent.com/-Dxv7XqYbfoI/AAAAAAAAAAI/AAAAAAAAAN8/oFytAVJhTgY/s50-c-k-no/photo.jpg",
            "userId": "105384727845522134432"
          }
        }
      },
      "cell_type": "code",
      "source": [
        "import tensorflow.contrib.eager as tfe\n",
        "w = tfe.Variable(3.0)\n",
        "with tf.GradientTape() as tape:\n",
        "  loss = w ** 2\n",
        "dw, = tape.gradient(loss, [w])\n",
        "print(\"\\nYou can use `tf.GradientTape` to compute the gradient of a \"\n",
        "      \"computation with respect to a list of `tf.contrib.eager.Variable`s;\\n\"\n",
        "      \"for example, `tape.gradient(loss, [w])`, where `loss` = w ** 2 and \"\n",
        "      \"`w` == 3.0, yields`\", dw,\"`.\")"
      ],
      "execution_count": 5,
      "outputs": [
        {
          "output_type": "stream",
          "text": [
            "WARNING:tensorflow:From /usr/local/lib/python3.6/dist-packages/tensorflow/contrib/learn/python/learn/datasets/base.py:198: retry (from tensorflow.contrib.learn.python.learn.datasets.base) is deprecated and will be removed in a future version.\n",
            "Instructions for updating:\n",
            "Use the retry module or similar alternatives.\n",
            "\n",
            "You can use `tf.GradientTape` to compute the gradient of a computation with respect to a list of `tf.contrib.eager.Variable`s;\n",
            "for example, `tape.gradient(loss, [w])`, where `loss` = w ** 2 and `w` == 3.0, yields` tf.Tensor(6.0, shape=(), dtype=float32) `.\n"
          ],
          "name": "stdout"
        }
      ]
    },
    {
      "metadata": {
        "id": "gZFXrVTKdFnl",
        "colab_type": "text"
      },
      "cell_type": "markdown",
      "source": [
        "### GPU usage\n",
        "Eager execution lets you offload computation to hardware accelerators like\n",
        "GPUs, if you have any available."
      ]
    },
    {
      "metadata": {
        "id": "ER-Hsk3RVmX9",
        "colab_type": "code",
        "colab": {
          "autoexec": {
            "startup": false,
            "wait_interval": 0
          }
        },
        "cellView": "both"
      },
      "cell_type": "code",
      "source": [
        "if tf.test.is_gpu_available() > 0:\n",
        "  with tf.device(tf.test.gpu_device_name()):\n",
        "    print(tf.matmul(A, A))"
      ],
      "execution_count": 0,
      "outputs": []
    },
    {
      "metadata": {
        "id": "JQ8kQT99VqDk",
        "colab_type": "text"
      },
      "cell_type": "markdown",
      "source": [
        "## Fitting a Huber regression\n",
        "\n",
        "If you come from a scientific or numerical computing background, eager execution should feel natural to you. Not only does it stand on its own as an accelerator-compatible library for numerical computation, it also interoperates with popular Python packages like NumPy and Matplotlib. To demonstrate this fact, in this section, we fit and evaluate a regression using a [Huber regression](https://en.wikipedia.org/wiki/Huber_loss), writing our code in a NumPy-like way and making use of Python control flow."
      ]
    },
    {
      "metadata": {
        "id": "6dXt0WfBK9-7",
        "colab_type": "text"
      },
      "cell_type": "markdown",
      "source": [
        "### Data generation\n",
        "\n",
        "Our dataset for this example has many outliers — least-squares would be a poor choice."
      ]
    },
    {
      "metadata": {
        "id": "Il1zLdgjVslU",
        "colab_type": "code",
        "colab": {
          "autoexec": {
            "startup": false,
            "wait_interval": 0
          },
          "output_extras": [
            {
              "item_id": 1
            }
          ],
          "base_uri": "https://localhost:8080/",
          "height": 362
        },
        "cellView": "code",
        "outputId": "815ececd-87dd-43dc-d40c-642cc7f5b19c",
        "executionInfo": {
          "status": "ok",
          "timestamp": 1522345803200,
          "user_tz": 420,
          "elapsed": 520,
          "user": {
            "displayName": "Akshay Agrawal",
            "photoUrl": "//lh4.googleusercontent.com/-Dxv7XqYbfoI/AAAAAAAAAAI/AAAAAAAAAN8/oFytAVJhTgY/s50-c-k-no/photo.jpg",
            "userId": "105384727845522134432"
          }
        }
      },
      "cell_type": "code",
      "source": [
        "import matplotlib.pyplot as plt\n",
        "\n",
        "def gen_regression_data(num_examples=1000, p=0.2):\n",
        "  X = tf.random_uniform(shape=(num_examples,), maxval=50)\n",
        "  w_star = tf.random_uniform(shape=(), maxval=10)\n",
        "  b_star = tf.random_uniform(shape=(), maxval=10)\n",
        "  noise = tf.random_normal(shape=(num_examples,), mean=0.0, stddev=10.0)\n",
        "  # With probability 1 - p, y := y * -1.\n",
        "  sign = 2 * np.random.binomial(1, 1 - p, size=(num_examples,)) - 1\n",
        "  # You can freely mix Tensors and NumPy arrays in your computations:\n",
        "  # `sign` is a NumPy array, but the other symbols below are Tensors.\n",
        "  Y = sign * (w_star * X + b_star + noise)  \n",
        "  return X, Y\n",
        "\n",
        "X, Y = gen_regression_data()\n",
        "plt.plot(X, Y, \"go\")  # You can plot Tensors!\n",
        "plt.title(\"Observed data\")\n",
        "plt.show()"
      ],
      "execution_count": 7,
      "outputs": [
        {
          "output_type": "display_data",
          "data": {
            "image/png": "[encoded data removed]",
            "text/plain": [
              "<matplotlib.figure.Figure at 0x7f54d8535080>"
            ]
          },
          "metadata": {
            "tags": []
          }
        }
      ]
    },
    {
      "metadata": {
        "id": "sYumjOrdMRFM",
        "colab_type": "text"
      },
      "cell_type": "markdown",
      "source": [
        "### Huber loss\n",
        "The Huber loss function is piecewise function that is quadratic for small inputs and linear otherwise; for that reason, using a Huber loss gives considerably less weight to outliers than least-squares does. When eager execution is enabled, we can implement the Huber function in the natural way, using **Python control flow**."
      ]
    },
    {
      "metadata": {
        "id": "anflUCeaVtK8",
        "colab_type": "code",
        "colab": {
          "autoexec": {
            "startup": false,
            "wait_interval": 0
          }
        }
      },
      "cell_type": "code",
      "source": [
        "def huber_loss(y, y_hat, m=1.0):\n",
        "  # Enabling eager execution lets you use Python control flow.\n",
        "  delta = tf.abs(y - y_hat)\n",
        "  return delta ** 2 if delta <= m else m * (2 * delta - m)"
      ],
      "execution_count": 0,
      "outputs": []
    },
    {
      "metadata": {
        "id": "0_OALYGwM7ma",
        "colab_type": "text"
      },
      "cell_type": "markdown",
      "source": [
        "### A simple class for regressions\n",
        "\n",
        "The next cell encapsulates a linear regression model in a Python class and defines a\n",
        "function that fits the model using a stochastic optimizer."
      ]
    },
    {
      "metadata": {
        "id": "-90due2RVuDF",
        "colab_type": "code",
        "colab": {
          "autoexec": {
            "startup": false,
            "wait_interval": 0
          }
        },
        "cellView": "code"
      },
      "cell_type": "code",
      "source": [
        "import time\n",
        "\n",
        "from google.colab import widgets\n",
        "import tensorflow.contrib.eager as tfe  # Needed to create tfe.Variable objects.\n",
        "\n",
        "\n",
        "class Regression(object):\n",
        "  def __init__(self, loss_fn):\n",
        "    super(Regression, self).__init__()\n",
        "    self.w = tfe.Variable(0.0)\n",
        "    self.b = tfe.Variable(0.0)\n",
        "    self.variables = [self.w, self.b]\n",
        "    self.loss_fn = loss_fn\n",
        "      \n",
        "  def predict(self, x):\n",
        "    return x * self.w + self.b\n",
        "  \n",
        "def regress(model, optimizer, dataset, epochs=5, log_every=1, num_examples=1000):\n",
        "  plot = log_every is not None\n",
        "  if plot:\n",
        "    # Colab provides several widgets for interactive visualization.\n",
        "    tb = widgets.TabBar([str(i) for i in range(epochs) if i % log_every == 0])\n",
        "    X, Y = dataset.batch(num_examples).make_one_shot_iterator().get_next()\n",
        "    X = tf.reshape(X, (num_examples,))\n",
        "    Y = tf.reshape(Y, (num_examples,))\n",
        "    \n",
        "  for epoch in range(epochs):\n",
        "    iterator = dataset.make_one_shot_iterator()\n",
        "    epoch_loss = 0.0\n",
        "    start = time.time()\n",
        "    for x_i, y_i in iterator:\n",
        "      batch_loss_fn = lambda: model.loss_fn(y_i, model.predict(x_i))  \n",
        "      optimizer.minimize(batch_loss_fn, var_list=model.variables)\n",
        "      epoch_loss += batch_loss_fn()\n",
        "    duration = time.time() - start\n",
        "    if plot and epoch % log_every == 0:\n",
        "      with tb.output_to(str(epoch)):\n",
        "        print(\"Epoch %d took %0.2f seconds, resulting in a loss of %0.4f.\" % (\n",
        "            epoch, duration, epoch_loss))\n",
        "        plt.plot(X, Y, \"go\", label=\"data\")\n",
        "        plt.plot(X, model.predict(X), \"b\", label=\"regression\")\n",
        "        plt.legend()"
      ],
      "execution_count": 0,
      "outputs": []
    },
    {
      "metadata": {
        "id": "Z8WdS6LQNc5K",
        "colab_type": "text"
      },
      "cell_type": "markdown",
      "source": [
        "Run the following cell to fit the model! Note that enabling eager execution makes it\n",
        "easy to visualize your model while training it, using  familiar tools like Matplotlib."
      ]
    },
    {
      "metadata": {
        "id": "_qRc30945Z3p",
        "colab_type": "code",
        "colab": {
          "autoexec": {
            "startup": false,
            "wait_interval": 0
          },
          "output_extras": [
            {
              "item_id": 1
            },
            {
              "item_id": 2
            },
            {
              "item_id": 3
            },
            {
              "item_id": 4
            },
            {
              "item_id": 5
            },
            {
              "item_id": 6
            },
            {
              "item_id": 7
            },
            {
              "item_id": 8
            },
            {
              "item_id": 9
            },
            {
              "item_id": 10
            },
            {
              "item_id": 11
            },
            {
              "item_id": 12
            },
            {
              "item_id": 13
            },
            {
              "item_id": 14
            },
            {
              "item_id": 15
            },
            {
              "item_id": 16
            },
            {
              "item_id": 17
            },
            {
              "item_id": 18
            },
            {
              "item_id": 19
            },
            {
              "item_id": 20
            },
            {
              "item_id": 21
            },
            {
              "item_id": 22
            },
            {
              "item_id": 23
            },
            {
              "item_id": 24
            },
            {
              "item_id": 25
            },
            {
              "item_id": 26
            },
            {
              "item_id": 27
            },
            {
              "item_id": 28
            },
            {
              "item_id": 29
            },
            {
              "item_id": 30
            },
            {
              "item_id": 31
            },
            {
              "item_id": 32
            },
            {
              "item_id": 33
            },
            {
              "item_id": 34
            },
            {
              "item_id": 35
            },
            {
              "item_id": 36
            },
            {
              "item_id": 37
            },
            {
              "item_id": 38
            },
            {
              "item_id": 39
            },
            {
              "item_id": 40
            }
          ],
          "resources": {
            "http://localhost:8080/nbextensions/google.colab/tabbar.css": {
              "data": "Lmdvb2ctdGFie3Bvc2l0aW9uOnJlbGF0aXZlO3BhZGRpbmc6NHB4IDhweDtjb2xvcjojMDBjO3RleHQtZGVjb3JhdGlvbjp1bmRlcmxpbmU7Y3Vyc29yOmRlZmF1bHR9Lmdvb2ctdGFiLWJhci10b3AgLmdvb2ctdGFie21hcmdpbjoxcHggNHB4IDAgMDtib3JkZXItYm90dG9tOjA7ZmxvYXQ6bGVmdH0uZ29vZy10YWItYmFyLXRvcDphZnRlciwuZ29vZy10YWItYmFyLWJvdHRvbTphZnRlcntjb250ZW50OiIgIjtkaXNwbGF5OmJsb2NrO2hlaWdodDowO2NsZWFyOmJvdGg7dmlzaWJpbGl0eTpoaWRkZW59Lmdvb2ctdGFiLWJhci1ib3R0b20gLmdvb2ctdGFie21hcmdpbjowIDRweCAxcHggMDtib3JkZXItdG9wOjA7ZmxvYXQ6bGVmdH0uZ29vZy10YWItYmFyLXN0YXJ0IC5nb29nLXRhYnttYXJnaW46MCAwIDRweCAxcHg7Ym9yZGVyLXJpZ2h0OjB9Lmdvb2ctdGFiLWJhci1lbmQgLmdvb2ctdGFie21hcmdpbjowIDFweCA0cHggMDtib3JkZXItbGVmdDowfS5nb29nLXRhYi1ob3ZlcntiYWNrZ3JvdW5kOiNlZWV9Lmdvb2ctdGFiLWRpc2FibGVke2NvbG9yOiM2NjZ9Lmdvb2ctdGFiLXNlbGVjdGVke2NvbG9yOiMwMDA7YmFja2dyb3VuZDojZmZmO3RleHQtZGVjb3JhdGlvbjpub25lO2ZvbnQtd2VpZ2h0OmJvbGQ7Ym9yZGVyOjFweCBzb2xpZCAjNmI5MGRhfS5nb29nLXRhYi1iYXItdG9we3BhZGRpbmctdG9wOjVweCFpbXBvcnRhbnQ7cGFkZGluZy1sZWZ0OjVweCFpbXBvcnRhbnQ7Ym9yZGVyLWJvdHRvbToxcHggc29saWQgIzZiOTBkYSFpbXBvcnRhbnR9Lmdvb2ctdGFiLWJhci10b3AgLmdvb2ctdGFiLXNlbGVjdGVke3RvcDoxcHg7bWFyZ2luLXRvcDowO3BhZGRpbmctYm90dG9tOjVweH0uZ29vZy10YWItYmFyLWJvdHRvbSAuZ29vZy10YWItc2VsZWN0ZWR7dG9wOi0xcHg7bWFyZ2luLWJvdHRvbTowO3BhZGRpbmctdG9wOjVweH0uZ29vZy10YWItYmFyLXN0YXJ0IC5nb29nLXRhYi1zZWxlY3RlZHtsZWZ0OjFweDttYXJnaW4tbGVmdDowO3BhZGRpbmctcmlnaHQ6OXB4fS5nb29nLXRhYi1iYXItZW5kIC5nb29nLXRhYi1zZWxlY3RlZHtsZWZ0Oi0xcHg7bWFyZ2luLXJpZ2h0OjA7cGFkZGluZy1sZWZ0OjlweH0uZ29vZy10YWItYmFye21hcmdpbjowO2JvcmRlcjowO3BhZGRpbmc6MDtsaXN0LXN0eWxlOm5vbmU7Y3Vyc29yOmRlZmF1bHQ7b3V0bGluZTpub25lO2JhY2tncm91bmQ6I2ViZWZmOX0uZ29vZy10YWItYmFyLWNsZWFye2NsZWFyOmJvdGg7aGVpZ2h0OjA7b3ZlcmZsb3c6aGlkZGVufS5nb29nLXRhYi1iYXItc3RhcnR7ZmxvYXQ6bGVmdH0uZ29vZy10YWItYmFyLWVuZHtmbG9hdDpyaWdodH0qIGh0bWwgLmdvb2ctdGFiLWJhci1zdGFydHttYXJnaW4tcmlnaHQ6LTNweH0qIGh0bWwgLmdvb2ctdGFiLWJhci1lbmR7bWFyZ2luLWxlZnQ6LTNweH0=",
              "ok": true,
              "headers": [
                [
                  "content-length",
                  "1394"
                ],
                [
                  "content-type",
                  "text/css"
                ]
              ],
              "status": 200,
              "status_text": ""
            },
            "http://localhost:8080/nbextensions/google.colab/tabbar_main.min.js": {
              "data": "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",
              "ok": true,
              "headers": [
                [
                  "content-type",
                  "application/javascript"
                ]
              ],
              "status": 200,
              "status_text": ""
            }
          },
          "base_uri": "https://localhost:8080/",
          "height": 404
        },
        "outputId": "0f5aa70e-6f4d-4db9-f782-8de7b9d17c99",
        "executionInfo": {
          "status": "ok",
          "timestamp": 1522345813751,
          "user_tz": 420,
          "elapsed": 7207,
          "user": {
            "displayName": "Akshay Agrawal",
            "photoUrl": "//lh4.googleusercontent.com/-Dxv7XqYbfoI/AAAAAAAAAAI/AAAAAAAAAN8/oFytAVJhTgY/s50-c-k-no/photo.jpg",
            "userId": "105384727845522134432"
          }
        }
      },
      "cell_type": "code",
      "source": [
        "huber_regression = Regression(huber_loss)\n",
        "dataset = tf.data.Dataset.from_tensor_slices((X, Y))\n",
        "regress(huber_regression,\n",
        "        optimizer=tf.train.GradientDescentOptimizer(learning_rate=0.0001),\n",
        "        dataset=dataset)"
      ],
      "execution_count": 10,
      "outputs": [
        {
          "output_type": "display_data",
          "data": {
            "text/html": [
              "<link rel=stylesheet type=text/css href='/nbextensions/google.colab/tabbar.css'></link>"
            ],
            "text/plain": [
              "<IPython.core.display.HTML object>"
            ]
          },
          "metadata": {
            "tags": [
              "outputarea_id1"
            ]
          }
        },
        {
          "output_type": "display_data",
          "data": {
            "text/html": [
              "<script src='/nbextensions/google.colab/tabbar_main.min.js'></script>"
            ],
            "text/plain": [
              "<IPython.core.display.HTML object>"
            ]
          },
          "metadata": {
            "tags": [
              "outputarea_id1"
            ]
          }
        },
        {
          "output_type": "display_data",
          "data": {
            "text/html": [
              "<div id=\"id1\"></div>"
            ],
            "text/plain": [
              "<IPython.core.display.HTML object>"
            ]
          },
          "metadata": {
            "tags": [
              "outputarea_id1"
            ]
          }
        },
        {
          "output_type": "display_data",
          "data": {
            "application/javascript": [
              "window[\"9dc87d9e-3379-11e8-a9b3-0242ac110002\"] = colab_lib.createTabBar({\"location\": \"top\", \"elementId\": \"id1\", \"tabNames\": [\"0\", \"1\", \"2\", \"3\", \"4\"], \"initialSelection\": 0, \"contentBorder\": [\"0px\"], \"contentHeight\": [\"initial\"], \"borderColor\": [\"#a7a7a7\"]});\n",
              "//# sourceURL=js_e773292442"
            ],
            "text/plain": [
              "<IPython.core.display.Javascript object>"
            ]
          },
          "metadata": {
            "tags": [
              "outputarea_id1"
            ]
          }
        },
        {
          "output_type": "display_data",
          "data": {
            "application/javascript": [
              "window[\"9dc90318-3379-11e8-a9b3-0242ac110002\"] = window[\"id1\"].setSelectedTabIndex(0);\n",
              "//# sourceURL=js_0e8c0fc28f"
            ],
            "text/plain": [
              "<IPython.core.display.Javascript object>"
            ]
          },
          "metadata": {
            "tags": [
              "outputarea_id1"
            ]
          }
        },
        {
          "output_type": "display_data",
          "data": {
            "application/javascript": [
              "window[\"9e7d3694-3379-11e8-a9b3-0242ac110002\"] = google.colab.output.getActiveOutputArea();\n",
              "//# sourceURL=js_7817b62f82"
            ],
            "text/plain": [
              "<IPython.core.display.Javascript object>"
            ]
          },
          "metadata": {
            "tags": [
              "id1_content_0",
              "outputarea_id1"
            ]
          }
        },
        {
          "output_type": "display_data",
          "data": {
            "application/javascript": [
              "window[\"9e7d909e-3379-11e8-a9b3-0242ac110002\"] = document.querySelector(\"#id1_content_0\");\n",
              "//# sourceURL=js_24892641b3"
            ],
            "text/plain": [
              "<IPython.core.display.Javascript object>"
            ]
          },
          "metadata": {
            "tags": [
              "id1_content_0",
              "outputarea_id1"
            ]
          }
        },
        {
          "output_type": "display_data",
          "data": {
            "application/javascript": [
              "window[\"9e7e1280-3379-11e8-a9b3-0242ac110002\"] = google.colab.output.setActiveOutputArea(window[\"9e7d909e-3379-11e8-a9b3-0242ac110002\"]);\n",
              "//# sourceURL=js_33bbe9e0d3"
            ],
            "text/plain": [
              "<IPython.core.display.Javascript object>"
            ]
          },
          "metadata": {
            "tags": [
              "id1_content_0",
              "outputarea_id1"
            ]
          }
        },
        {
          "output_type": "display_data",
          "data": {
            "application/javascript": [
              "window[\"9e7e77b6-3379-11e8-a9b3-0242ac110002\"] = window[\"id1\"].setSelectedTabIndex(0);\n",
              "//# sourceURL=js_bcbe4c53e8"
            ],
            "text/plain": [
              "<IPython.core.display.Javascript object>"
            ]
          },
          "metadata": {
            "tags": [
              "id1_content_0",
              "outputarea_id1"
            ]
          }
        },
        {
          "output_type": "stream",
          "text": [
            "Epoch 0 took 1.16 seconds, resulting in a loss of 322937.2812.\n"
          ],
          "name": "stdout"
        },
        {
          "output_type": "display_data",
          "data": {
            "image/png": "[encoded data removed]",
            "text/plain": [
              "<matplotlib.figure.Figure at 0x7f54f8169e48>"
            ]
          },
          "metadata": {
            "tags": [
              "id1_content_0",
              "outputarea_id1",
              "user_output"
            ]
          }
        },
        {
          "output_type": "display_data",
          "data": {
            "application/javascript": [
              "window[\"9ea152ae-3379-11e8-a9b3-0242ac110002\"] = google.colab.output.setActiveOutputArea(window[\"9e7d3694-3379-11e8-a9b3-0242ac110002\"]);\n",
              "//# sourceURL=js_0b7d352ee1"
            ],
            "text/plain": [
              "<IPython.core.display.Javascript object>"
            ]
          },
          "metadata": {
            "tags": [
              "id1_content_0",
              "outputarea_id1"
            ]
          }
        },
        {
          "output_type": "display_data",
          "data": {
            "application/javascript": [
              "window[\"9f614168-3379-11e8-a9b3-0242ac110002\"] = google.colab.output.getActiveOutputArea();\n",
              "//# sourceURL=js_f50dfd70ad"
            ],
            "text/plain": [
              "<IPython.core.display.Javascript object>"
            ]
          },
          "metadata": {
            "tags": [
              "id1_content_1",
              "outputarea_id1"
            ]
          }
        },
        {
          "output_type": "display_data",
          "data": {
            "application/javascript": [
              "window[\"9f61fac2-3379-11e8-a9b3-0242ac110002\"] = document.querySelector(\"#id1_content_1\");\n",
              "//# sourceURL=js_0b06349ada"
            ],
            "text/plain": [
              "<IPython.core.display.Javascript object>"
            ]
          },
          "metadata": {
            "tags": [
              "id1_content_1",
              "outputarea_id1"
            ]
          }
        },
        {
          "output_type": "display_data",
          "data": {
            "application/javascript": [
              "window[\"9f6268c2-3379-11e8-a9b3-0242ac110002\"] = google.colab.output.setActiveOutputArea(window[\"9f61fac2-3379-11e8-a9b3-0242ac110002\"]);\n",
              "//# sourceURL=js_abf6b67cf3"
            ],
            "text/plain": [
              "<IPython.core.display.Javascript object>"
            ]
          },
          "metadata": {
            "tags": [
              "id1_content_1",
              "outputarea_id1"
            ]
          }
        },
        {
          "output_type": "display_data",
          "data": {
            "application/javascript": [
              "window[\"9f62d640-3379-11e8-a9b3-0242ac110002\"] = window[\"id1\"].setSelectedTabIndex(1);\n",
              "//# sourceURL=js_444446b700"
            ],
            "text/plain": [
              "<IPython.core.display.Javascript object>"
            ]
          },
          "metadata": {
            "tags": [
              "id1_content_1",
              "outputarea_id1"
            ]
          }
        },
        {
          "output_type": "stream",
          "text": [
            "Epoch 1 took 1.24 seconds, resulting in a loss of 225539.1719.\n"
          ],
          "name": "stdout"
        },
        {
          "output_type": "display_data",
          "data": {
            "image/png": "[encoded data removed]",
            "text/plain": [
              "<matplotlib.figure.Figure at 0x7f54d5c80908>"
            ]
          },
          "metadata": {
            "tags": [
              "id1_content_1",
              "outputarea_id1",
              "user_output"
            ]
          }
        },
        {
          "output_type": "display_data",
          "data": {
            "application/javascript": [
              "window[\"9f84730e-3379-11e8-a9b3-0242ac110002\"] = google.colab.output.setActiveOutputArea(window[\"9f614168-3379-11e8-a9b3-0242ac110002\"]);\n",
              "//# sourceURL=js_96e40eef83"
            ],
            "text/plain": [
              "<IPython.core.display.Javascript object>"
            ]
          },
          "metadata": {
            "tags": [
              "id1_content_1",
              "outputarea_id1"
            ]
          }
        },
        {
          "output_type": "display_data",
          "data": {
            "application/javascript": [
              "window[\"a0307d34-3379-11e8-a9b3-0242ac110002\"] = google.colab.output.getActiveOutputArea();\n",
              "//# sourceURL=js_f7a569f57e"
            ],
            "text/plain": [
              "<IPython.core.display.Javascript object>"
            ]
          },
          "metadata": {
            "tags": [
              "id1_content_2",
              "outputarea_id1"
            ]
          }
        },
        {
          "output_type": "display_data",
          "data": {
            "application/javascript": [
              "window[\"a0312252-3379-11e8-a9b3-0242ac110002\"] = document.querySelector(\"#id1_content_2\");\n",
              "//# sourceURL=js_43348bafdc"
            ],
            "text/plain": [
              "<IPython.core.display.Javascript object>"
            ]
          },
          "metadata": {
            "tags": [
              "id1_content_2",
              "outputarea_id1"
            ]
          }
        },
        {
          "output_type": "display_data",
          "data": {
            "application/javascript": [
              "window[\"a031b852-3379-11e8-a9b3-0242ac110002\"] = google.colab.output.setActiveOutputArea(window[\"a0312252-3379-11e8-a9b3-0242ac110002\"]);\n",
              "//# sourceURL=js_e24b851b74"
            ],
            "text/plain": [
              "<IPython.core.display.Javascript object>"
            ]
          },
          "metadata": {
            "tags": [
              "id1_content_2",
              "outputarea_id1"
            ]
          }
        },
        {
          "output_type": "display_data",
          "data": {
            "application/javascript": [
              "window[\"a032168a-3379-11e8-a9b3-0242ac110002\"] = window[\"id1\"].setSelectedTabIndex(2);\n",
              "//# sourceURL=js_200993a019"
            ],
            "text/plain": [
              "<IPython.core.display.Javascript object>"
            ]
          },
          "metadata": {
            "tags": [
              "id1_content_2",
              "outputarea_id1"
            ]
          }
        },
        {
          "output_type": "stream",
          "text": [
            "Epoch 2 took 1.11 seconds, resulting in a loss of 157498.7812.\n"
          ],
          "name": "stdout"
        },
        {
          "output_type": "display_data",
          "data": {
            "image/png": "[encoded data removed]",
            "text/plain": [
              "<matplotlib.figure.Figure at 0x7f54d5b2fc18>"
            ]
          },
          "metadata": {
            "tags": [
              "id1_content_2",
              "outputarea_id1",
              "user_output"
            ]
          }
        },
        {
          "output_type": "display_data",
          "data": {
            "application/javascript": [
              "window[\"a056b652-3379-11e8-a9b3-0242ac110002\"] = google.colab.output.setActiveOutputArea(window[\"a0307d34-3379-11e8-a9b3-0242ac110002\"]);\n",
              "//# sourceURL=js_2f73fd9c11"
            ],
            "text/plain": [
              "<IPython.core.display.Javascript object>"
            ]
          },
          "metadata": {
            "tags": [
              "id1_content_2",
              "outputarea_id1"
            ]
          }
        },
        {
          "output_type": "display_data",
          "data": {
            "application/javascript": [
              "window[\"a0fc9a72-3379-11e8-a9b3-0242ac110002\"] = google.colab.output.getActiveOutputArea();\n",
              "//# sourceURL=js_1f74c8a620"
            ],
            "text/plain": [
              "<IPython.core.display.Javascript object>"
            ]
          },
          "metadata": {
            "tags": [
              "id1_content_3",
              "outputarea_id1"
            ]
          }
        },
        {
          "output_type": "display_data",
          "data": {
            "application/javascript": [
              "window[\"a0fcf2e2-3379-11e8-a9b3-0242ac110002\"] = document.querySelector(\"#id1_content_3\");\n",
              "//# sourceURL=js_3952d1c39a"
            ],
            "text/plain": [
              "<IPython.core.display.Javascript object>"
            ]
          },
          "metadata": {
            "tags": [
              "id1_content_3",
              "outputarea_id1"
            ]
          }
        },
        {
          "output_type": "display_data",
          "data": {
            "application/javascript": [
              "window[\"a0fd46a2-3379-11e8-a9b3-0242ac110002\"] = google.colab.output.setActiveOutputArea(window[\"a0fcf2e2-3379-11e8-a9b3-0242ac110002\"]);\n",
              "//# sourceURL=js_ee7992b89c"
            ],
            "text/plain": [
              "<IPython.core.display.Javascript object>"
            ]
          },
          "metadata": {
            "tags": [
              "id1_content_3",
              "outputarea_id1"
            ]
          }
        },
        {
          "output_type": "display_data",
          "data": {
            "application/javascript": [
              "window[\"a0fd96fc-3379-11e8-a9b3-0242ac110002\"] = window[\"id1\"].setSelectedTabIndex(3);\n",
              "//# sourceURL=js_794bdc9082"
            ],
            "text/plain": [
              "<IPython.core.display.Javascript object>"
            ]
          },
          "metadata": {
            "tags": [
              "id1_content_3",
              "outputarea_id1"
            ]
          }
        },
        {
          "output_type": "stream",
          "text": [
            "Epoch 3 took 1.06 seconds, resulting in a loss of 154318.3906.\n"
          ],
          "name": "stdout"
        },
        {
          "output_type": "display_data",
          "data": {
            "image/png": "[encoded data removed]",
            "text/plain": [
              "<matplotlib.figure.Figure at 0x7f54d5a716a0>"
            ]
          },
          "metadata": {
            "tags": [
              "id1_content_3",
              "outputarea_id1",
              "user_output"
            ]
          }
        },
        {
          "output_type": "display_data",
          "data": {
            "application/javascript": [
              "window[\"a1211500-3379-11e8-a9b3-0242ac110002\"] = google.colab.output.setActiveOutputArea(window[\"a0fc9a72-3379-11e8-a9b3-0242ac110002\"]);\n",
              "//# sourceURL=js_96850a6133"
            ],
            "text/plain": [
              "<IPython.core.display.Javascript object>"
            ]
          },
          "metadata": {
            "tags": [
              "id1_content_3",
              "outputarea_id1"
            ]
          }
        },
        {
          "output_type": "display_data",
          "data": {
            "application/javascript": [
              "window[\"a1c46dfe-3379-11e8-a9b3-0242ac110002\"] = google.colab.output.getActiveOutputArea();\n",
              "//# sourceURL=js_aecccca419"
            ],
            "text/plain": [
              "<IPython.core.display.Javascript object>"
            ]
          },
          "metadata": {
            "tags": [
              "id1_content_4",
              "outputarea_id1"
            ]
          }
        },
        {
          "output_type": "display_data",
          "data": {
            "application/javascript": [
              "window[\"a1c4d046-3379-11e8-a9b3-0242ac110002\"] = document.querySelector(\"#id1_content_4\");\n",
              "//# sourceURL=js_6856e46d79"
            ],
            "text/plain": [
              "<IPython.core.display.Javascript object>"
            ]
          },
          "metadata": {
            "tags": [
              "id1_content_4",
              "outputarea_id1"
            ]
          }
        },
        {
          "output_type": "display_data",
          "data": {
            "application/javascript": [
              "window[\"a1c5332e-3379-11e8-a9b3-0242ac110002\"] = google.colab.output.setActiveOutputArea(window[\"a1c4d046-3379-11e8-a9b3-0242ac110002\"]);\n",
              "//# sourceURL=js_6e02c45306"
            ],
            "text/plain": [
              "<IPython.core.display.Javascript object>"
            ]
          },
          "metadata": {
            "tags": [
              "id1_content_4",
              "outputarea_id1"
            ]
          }
        },
        {
          "output_type": "display_data",
          "data": {
            "application/javascript": [
              "window[\"a1c57f50-3379-11e8-a9b3-0242ac110002\"] = window[\"id1\"].setSelectedTabIndex(4);\n",
              "//# sourceURL=js_36c041d0ba"
            ],
            "text/plain": [
              "<IPython.core.display.Javascript object>"
            ]
          },
          "metadata": {
            "tags": [
              "id1_content_4",
              "outputarea_id1"
            ]
          }
        },
        {
          "output_type": "stream",
          "text": [
            "Epoch 4 took 1.06 seconds, resulting in a loss of 154316.3906.\n"
          ],
          "name": "stdout"
        },
        {
          "output_type": "display_data",
          "data": {
            "image/png": "[encoded data removed]",
            "text/plain": [
              "<matplotlib.figure.Figure at 0x7f54d59b4470>"
            ]
          },
          "metadata": {
            "tags": [
              "id1_content_4",
              "outputarea_id1",
              "user_output"
            ]
          }
        },
        {
          "output_type": "display_data",
          "data": {
            "application/javascript": [
              "window[\"a1e67b74-3379-11e8-a9b3-0242ac110002\"] = google.colab.output.setActiveOutputArea(window[\"a1c46dfe-3379-11e8-a9b3-0242ac110002\"]);\n",
              "//# sourceURL=js_c52ecc854d"
            ],
            "text/plain": [
              "<IPython.core.display.Javascript object>"
            ]
          },
          "metadata": {
            "tags": [
              "id1_content_4",
              "outputarea_id1"
            ]
          }
        }
      ]
    },
    {
      "metadata": {
        "id": "5icvQghlN8Fd",
        "colab_type": "text"
      },
      "cell_type": "markdown",
      "source": [
        "## Debugging and profiling"
      ]
    },
    {
      "metadata": {
        "id": "55qmgvjgQocz",
        "colab_type": "text"
      },
      "cell_type": "markdown",
      "source": [
        "### Enabling eager execution lets you debug your code on-the-fly; use `pdb` and print statements to your heart's content.\n",
        "\n",
        "Check out exercise 2 towards the bottom of this notebook for a hands-on look at how eager simplifies model debugging."
      ]
    },
    {
      "metadata": {
        "id": "DNHJpCyNVwA9",
        "colab_type": "code",
        "colab": {
          "autoexec": {
            "startup": false,
            "wait_interval": 0
          },
          "output_extras": [
            {
              "item_id": 2
            }
          ],
          "base_uri": "https://localhost:8080/",
          "height": 85
        },
        "outputId": "891f3973-4e54-45ed-96a8-b4157a2ccc7f",
        "executionInfo": {
          "status": "ok",
          "timestamp": 1522345818771,
          "user_tz": 420,
          "elapsed": 3356,
          "user": {
            "displayName": "Akshay Agrawal",
            "photoUrl": "//lh4.googleusercontent.com/-Dxv7XqYbfoI/AAAAAAAAAAI/AAAAAAAAAN8/oFytAVJhTgY/s50-c-k-no/photo.jpg",
            "userId": "105384727845522134432"
          }
        }
      },
      "cell_type": "code",
      "source": [
        "import pdb\n",
        "\n",
        "def buggy_loss(y, y_hat):\n",
        "  pdb.set_trace()\n",
        "  huber_loss(y, y_hat)\n",
        "  \n",
        "print(\"Type 'exit' to stop the debugger, or 's' to step into `huber_loss` and \"\n",
        "      \"'n' to step through it.\")\n",
        "try:\n",
        "  buggy_loss(1.0, 2.0)\n",
        "except:\n",
        "  pass"
      ],
      "execution_count": 11,
      "outputs": [
        {
          "output_type": "stream",
          "text": [
            "Type 'exit' to stop the debugger, or 's' to step into `huber_loss` and 'n' to step through it.\n",
            "> <ipython-input-11-3cbc779c3bc6>(5)buggy_loss()\n",
            "-> huber_loss(y, y_hat)\n",
            "(Pdb) exit\n"
          ],
          "name": "stdout"
        }
      ]
    },
    {
      "metadata": {
        "id": "mvI3ljk-vJ_h",
        "colab_type": "text"
      },
      "cell_type": "markdown",
      "source": [
        "### Leverage the Python profiler to dig into the relative costs of training your model.\n",
        "\n",
        "If you run the below cell, you'll see that most of the time is spent computing gradients and binary operations, which is sensible considering our loss function."
      ]
    },
    {
      "metadata": {
        "id": "ZUlywNxYsapf",
        "colab_type": "code",
        "colab": {
          "autoexec": {
            "startup": false,
            "wait_interval": 0
          },
          "output_extras": [
            {
              "item_id": 1
            }
          ],
          "base_uri": "https://localhost:8080/",
          "height": 374
        },
        "outputId": "ece01796-31a7-404d-e663-7d47818d4386",
        "executionInfo": {
          "status": "ok",
          "timestamp": 1522345832340,
          "user_tz": 420,
          "elapsed": 9643,
          "user": {
            "displayName": "Akshay Agrawal",
            "photoUrl": "//lh4.googleusercontent.com/-Dxv7XqYbfoI/AAAAAAAAAAI/AAAAAAAAAN8/oFytAVJhTgY/s50-c-k-no/photo.jpg",
            "userId": "105384727845522134432"
          }
        }
      },
      "cell_type": "code",
      "source": [
        "import cProfile\n",
        "import pstats\n",
        "\n",
        "huber_regression = Regression(huber_loss)\n",
        "cProfile.run(\n",
        "    \"regress(model=huber_regression, \"\n",
        "    \"optimizer=tf.train.GradientDescentOptimizer(learning_rate=0.001), \"\n",
        "    \"dataset=dataset, log_every=None)\", \"prof\")\n",
        "pstats.Stats(\"prof\").strip_dirs().sort_stats(\"cumulative\").print_stats(10)\n",
        "print(\"Most of the time is spent during backpropagation and binary operations.\")"
      ],
      "execution_count": 12,
      "outputs": [
        {
          "output_type": "stream",
          "text": [
            "Thu Mar 29 17:50:31 2018    prof\n",
            "\n",
            "         9274610 function calls (9254610 primitive calls) in 9.230 seconds\n",
            "\n",
            "   Ordered by: cumulative time\n",
            "   List reduced from 242 to 10 due to restriction <10>\n",
            "\n",
            "   ncalls  tottime  percall  cumtime  percall filename:lineno(function)\n",
            "        1    0.001    0.001    9.230    9.230 {built-in method builtins.exec}\n",
            "        1    0.000    0.000    9.229    9.229 <string>:1(<module>)\n",
            "        1    0.050    0.050    9.229    9.229 <ipython-input-9-a3af268753a3>:18(regress)\n",
            "     5000    0.027    0.000    5.819    0.001 optimizer.py:341(minimize)\n",
            "     5000    0.052    0.000    4.648    0.001 optimizer.py:402(compute_gradients)\n",
            "    10000    0.020    0.000    4.618    0.000 <ipython-input-9-a3af268753a3>:32(<lambda>)\n",
            "    10000    0.089    0.000    2.886    0.000 <ipython-input-8-dc90d9ac59b0>:1(huber_loss)\n",
            "    51415    0.279    0.000    2.675    0.000 math_ops.py:966(binary_op_wrapper)\n",
            "     5000    0.023    0.000    2.008    0.000 backprop.py:737(gradient)\n",
            "     5000    0.019    0.000    1.968    0.000 imperative_grad.py:32(imperative_grad)\n",
            "\n",
            "\n",
            "Most of the time is spent during backpropagation and binary operations.\n"
          ],
          "name": "stdout"
        }
      ]
    },
    {
      "metadata": {
        "id": "5AeTwwPobkaJ",
        "colab_type": "text"
      },
      "cell_type": "markdown",
      "source": [
        "# 3. Neural networks\n",
        "\n",
        "While eager execution can certainly be used as a library for numerical computation, it shines as a library for deep learning: TensorFlow provides a suite of tools for deep learning research and development, most of which are compatible with eager execution. In this section, we put some of these tools to use to build _RNNColorbot_, an RNN that takes as input names of colors and predicts their corresponding RGB tuples. "
      ]
    },
    {
      "metadata": {
        "id": "6IcmEQ-jpTMO",
        "colab_type": "text"
      },
      "cell_type": "markdown",
      "source": [
        "## Constructing a data pipeline\n",
        "\n",
        "**[`tf.data`](https://www.tensorflow.org/api_guides/python/reading_data#_tf_data_API) is TensorFlow's canonical API for constructing input pipelines.** `tf.data` lets you easily construct multi-stage pipelines that supply data to your networks during training and inference. The following cells defines methods that download and format the data needed for RNNColorbot; the details aren't important (read them in the privacy of your own home if you so wish), but make sure to run the cells before proceeding."
      ]
    },
    {
      "metadata": {
        "id": "dcUC3Ma8bjgY",
        "colab_type": "code",
        "colab": {
          "autoexec": {
            "startup": false,
            "wait_interval": 0
          }
        },
        "cellView": "code"
      },
      "cell_type": "code",
      "source": [
        "import os\n",
        "import six\n",
        "from six.moves import urllib\n",
        "\n",
        "\n",
        "def parse(line):\n",
        "  \"\"\"Parse a line from the colors dataset.\"\"\"\n",
        "  # `items` is a list [color_name, r, g, b].\n",
        "  items = tf.string_split([line], \",\").values\n",
        "  rgb = tf.string_to_number(items[1:], out_type=tf.float32) / 255.\n",
        "  color_name = items[0]\n",
        "  chars = tf.one_hot(tf.decode_raw(color_name, tf.uint8), depth=256)\n",
        "  length = tf.cast(tf.shape(chars)[0], dtype=tf.int64)\n",
        "  return rgb, chars, length\n",
        "\n",
        "def load_dataset(data_dir, url, batch_size):\n",
        "  \"\"\"Loads the colors data at path into a PaddedDataset.\"\"\"\n",
        "  path = tf.keras.utils.get_file(os.path.basename(url), url, cache_dir=data_dir)\n",
        "  dataset = tf.data.TextLineDataset(path).skip(1).map(parse).shuffle(\n",
        "      buffer_size=10000).padded_batch(batch_size,\n",
        "                                      padded_shapes=([None], [None, None], []))\n",
        "  return dataset, path"
      ],
      "execution_count": 0,
      "outputs": []
    },
    {
      "metadata": {
        "id": "KBPJAQPUlh5M",
        "colab_type": "code",
        "colab": {
          "autoexec": {
            "startup": false,
            "wait_interval": 0
          }
        }
      },
      "cell_type": "code",
      "source": [
        "train_url = \"https://raw.githubusercontent.com/random-forests/tensorflow-workshop/master/extras/colorbot/data/train.csv\"\n",
        "test_url = \"https://raw.githubusercontent.com/random-forests/tensorflow-workshop/master/extras/colorbot/data/test.csv\"\n",
        "data_dir = \"/tmp/rnn/data\"\n",
        "\n",
        "train_data, train_path = load_dataset(data_dir, train_url, batch_size=64)\n",
        "eval_data, _ = load_dataset(data_dir, test_url, batch_size=64)"
      ],
      "execution_count": 0,
      "outputs": []
    },
    {
      "metadata": {
        "id": "w9ftJ4LUoVYo",
        "colab_type": "code",
        "colab": {
          "autoexec": {
            "startup": false,
            "wait_interval": 0
          },
          "output_extras": [
            {
              "item_id": 1
            }
          ],
          "base_uri": "https://localhost:8080/",
          "height": 359
        },
        "outputId": "10674e1a-6940-4232-d82d-f2451bff10b5",
        "executionInfo": {
          "status": "ok",
          "timestamp": 1522345835353,
          "user_tz": 420,
          "elapsed": 353,
          "user": {
            "displayName": "Akshay Agrawal",
            "photoUrl": "//lh4.googleusercontent.com/-Dxv7XqYbfoI/AAAAAAAAAAI/AAAAAAAAAN8/oFytAVJhTgY/s50-c-k-no/photo.jpg",
            "userId": "105384727845522134432"
          }
        }
      },
      "cell_type": "code",
      "source": [
        "import pandas\n",
        "pandas.read_csv(train_path).head(10)"
      ],
      "execution_count": 15,
      "outputs": [
        {
          "output_type": "execute_result",
          "data": {
            "text/html": [
              "<div>\n",
              "<style scoped>\n",
              "    .dataframe tbody tr th:only-of-type {\n",
              "        vertical-align: middle;\n",
              "    }\n",
              "\n",
              "    .dataframe tbody tr th {\n",
              "        vertical-align: top;\n",
              "    }\n",
              "\n",
              "    .dataframe thead th {\n",
              "        text-align: right;\n",
              "    }\n",
              "</style>\n",
              "<table border=\"1\" class=\"dataframe\">\n",
              "  <thead>\n",
              "    <tr style=\"text-align: right;\">\n",
              "      <th></th>\n",
              "      <th>name</th>\n",
              "      <th>red</th>\n",
              "      <th>green</th>\n",
              "      <th>blue</th>\n",
              "    </tr>\n",
              "  </thead>\n",
              "  <tbody>\n",
              "    <tr>\n",
              "      <th>0</th>\n",
              "      <td>naples yellow</td>\n",
              "      <td>250</td>\n",
              "      <td>218</td>\n",
              "      <td>94</td>\n",
              "    </tr>\n",
              "    <tr>\n",
              "      <th>1</th>\n",
              "      <td>light apricot</td>\n",
              "      <td>253</td>\n",
              "      <td>213</td>\n",
              "      <td>177</td>\n",
              "    </tr>\n",
              "    <tr>\n",
              "      <th>2</th>\n",
              "      <td>dark terra cotta</td>\n",
              "      <td>204</td>\n",
              "      <td>78</td>\n",
              "      <td>92</td>\n",
              "    </tr>\n",
              "    <tr>\n",
              "      <th>3</th>\n",
              "      <td>mellow yellow</td>\n",
              "      <td>248</td>\n",
              "      <td>222</td>\n",
              "      <td>126</td>\n",
              "    </tr>\n",
              "    <tr>\n",
              "      <th>4</th>\n",
              "      <td>zaffre</td>\n",
              "      <td>0</td>\n",
              "      <td>20</td>\n",
              "      <td>168</td>\n",
              "    </tr>\n",
              "    <tr>\n",
              "      <th>5</th>\n",
              "      <td>beaver</td>\n",
              "      <td>159</td>\n",
              "      <td>129</td>\n",
              "      <td>112</td>\n",
              "    </tr>\n",
              "    <tr>\n",
              "      <th>6</th>\n",
              "      <td>sangria</td>\n",
              "      <td>146</td>\n",
              "      <td>0</td>\n",
              "      <td>10</td>\n",
              "    </tr>\n",
              "    <tr>\n",
              "      <th>7</th>\n",
              "      <td>peach puff</td>\n",
              "      <td>255</td>\n",
              "      <td>218</td>\n",
              "      <td>185</td>\n",
              "    </tr>\n",
              "    <tr>\n",
              "      <th>8</th>\n",
              "      <td>cadmium orange</td>\n",
              "      <td>237</td>\n",
              "      <td>135</td>\n",
              "      <td>45</td>\n",
              "    </tr>\n",
              "    <tr>\n",
              "      <th>9</th>\n",
              "      <td>ultramarine</td>\n",
              "      <td>63</td>\n",
              "      <td>0</td>\n",
              "      <td>255</td>\n",
              "    </tr>\n",
              "  </tbody>\n",
              "</table>\n",
              "</div>"
            ],
            "text/plain": [
              "               name  red  green  blue\n",
              "0     naples yellow  250    218    94\n",
              "1     light apricot  253    213   177\n",
              "2  dark terra cotta  204     78    92\n",
              "3     mellow yellow  248    222   126\n",
              "4            zaffre    0     20   168\n",
              "5            beaver  159    129   112\n",
              "6           sangria  146      0    10\n",
              "7        peach puff  255    218   185\n",
              "8    cadmium orange  237    135    45\n",
              "9       ultramarine   63      0   255"
            ]
          },
          "metadata": {
            "tags": []
          },
          "execution_count": 15
        }
      ]
    },
    {
      "metadata": {
        "id": "ynzm5mfnlmS8",
        "colab_type": "code",
        "colab": {
          "autoexec": {
            "startup": false,
            "wait_interval": 0
          },
          "output_extras": [
            {
              "item_id": 1
            }
          ],
          "base_uri": "https://localhost:8080/",
          "height": 187
        },
        "outputId": "d0c022ae-1312-4e23-eb9c-4a90eca86f6b",
        "executionInfo": {
          "status": "ok",
          "timestamp": 1522345836540,
          "user_tz": 420,
          "elapsed": 477,
          "user": {
            "displayName": "Akshay Agrawal",
            "photoUrl": "//lh4.googleusercontent.com/-Dxv7XqYbfoI/AAAAAAAAAAI/AAAAAAAAAN8/oFytAVJhTgY/s50-c-k-no/photo.jpg",
            "userId": "105384727845522134432"
          }
        }
      },
      "cell_type": "code",
      "source": [
        "colors, one_hot_chars, lengths = tfe.Iterator(train_data).next()\n",
        "colors[:10].numpy()"
      ],
      "execution_count": 16,
      "outputs": [
        {
          "output_type": "execute_result",
          "data": {
            "text/plain": [
              "array([[0.6039216 , 0.7254902 , 0.4509804 ],\n",
              "       [0.6666667 , 0.2509804 , 0.4117647 ],\n",
              "       [0.4       , 0.6       , 0.8       ],\n",
              "       [0.54901963, 0.57254905, 0.6745098 ],\n",
              "       [1.        , 0.972549  , 0.90588236],\n",
              "       [0.14901961, 0.38039216, 0.6117647 ],\n",
              "       [0.56078434, 0.        , 1.        ],\n",
              "       [1.        , 0.89411765, 0.88235295],\n",
              "       [0.        , 0.98039216, 0.6039216 ],\n",
              "       [0.99607843, 0.15686275, 0.63529414]], dtype=float32)"
            ]
          },
          "metadata": {
            "tags": []
          },
          "execution_count": 16
        }
      ]
    },
    {
      "metadata": {
        "id": "S39jq-2QoA5e",
        "colab_type": "text"
      },
      "cell_type": "markdown",
      "source": [
        "## Defining and training a neural network"
      ]
    },
    {
      "metadata": {
        "id": "9fycJOqm8vkt",
        "colab_type": "text"
      },
      "cell_type": "markdown",
      "source": [
        "TensorFlow packages several APIs for creating neural networks in a modular fashion. **The canonical way to define neural networks in TensorFlow is to encapsulate your model in a class that inherits from `tf.keras.Model`**. You should think of `tf.keras.Model` as a container of **[object-oriented layers](https://www.tensorflow.org/api_docs/python/tf/layers)**, TensorFlow's building blocks for constructing neural networks (*e.g.*, `tf.layers.Dense`, `tf.layers.Conv2D`). Every `Layer` object that is set as an attribute of a `Model` is automatically tracked by the latter, letting you access `Layer`-contained variables by invoking `Model`'s `.variables()` method. Most important, **inheriting from `tf.keras.Model` makes it easy to checkpoint your model and to subsequently restore it** --- more on that later. \n",
        "\n",
        "The following cell exemplifies our high-level neural network APIs. Note that `RNNColorbot` encapsulates only the model definition and prediction generation logic. The loss, training, and evaluation functions exist outside the class definition: conceptually, the model doesn't need know how to train and benchmark itself."
      ]
    },
    {
      "metadata": {
        "id": "NlKcdvT9leQ2",
        "colab_type": "code",
        "colab": {
          "autoexec": {
            "startup": false,
            "wait_interval": 0
          }
        },
        "cellView": "code"
      },
      "cell_type": "code",
      "source": [
        "class RNNColorbot(tf.keras.Model):\n",
        "  \"\"\"Multi-layer RNN that predicts RGB tuples given color names.\n",
        "  \"\"\"\n",
        "\n",
        "  def __init__(self):\n",
        "    super(RNNColorbot, self).__init__()\n",
        "    self.keep_prob = 0.5\n",
        "    self.lower_cell = tf.contrib.rnn.LSTMBlockCell(256)\n",
        "    self.upper_cell = tf.contrib.rnn.LSTMBlockCell(128)\n",
        "    self.relu = tf.layers.Dense(3, activation=tf.nn.relu, name=\"relu\")\n",
        "\n",
        "  def call(self, inputs, training=False):\n",
        "    \"\"\"Generates RGB tuples from `inputs`, a tuple (`chars`, `sequence_length`).\n",
        "    \"\"\"\n",
        "    (chars, sequence_length) = inputs\n",
        "    chars = tf.transpose(chars, [1, 0, 2])  # make `chars` time-major\n",
        "    batch_size = int(chars.shape[1])\n",
        "    for cell in [self.lower_cell, self.upper_cell]:\n",
        "      outputs = []\n",
        "      state = cell.zero_state(batch_size, tf.float32)\n",
        "      for ch in chars:\n",
        "        output, state = cell(ch, state)\n",
        "        outputs.append(output)\n",
        "      chars = outputs\n",
        "      if training:\n",
        "        chars = tf.nn.dropout(chars, self.keep_prob)\n",
        "    batch_range = [i for i in range(batch_size)]\n",
        "    indices = tf.stack([sequence_length - 1, batch_range], axis=1)\n",
        "    hidden_states = tf.gather_nd(chars, indices)\n",
        "    return self.relu(hidden_states)\n",
        "\n",
        "\n",
        "def loss_fn(labels, predictions):\n",
        "  return tf.reduce_mean((predictions - labels) ** 2)\n",
        "\n",
        "def train_one_epoch(model, optimizer, train_data, log_every=10):\n",
        "  iterator = tfe.Iterator(train_data)\n",
        "  for batch,(labels, chars, sequence_length) in enumerate(iterator):\n",
        "    with tf.GradientTape() as tape:\n",
        "      predictions = model((chars, sequence_length), training=True)\n",
        "      loss = loss_fn(labels, predictions)\n",
        "    variables = model.variables\n",
        "    grad = tape.gradient(loss, variables)\n",
        "    optimizer.apply_gradients([(g, v) for g, v in zip(grad, variables)])\n",
        "    if log_every and batch % log_every == 0:\n",
        "      print(\"train/batch #%d\\tloss: %.6f\" % (batch, loss))\n",
        "    batch += 1\n",
        "           \n",
        "def test(model, eval_data):\n",
        "  total_loss = 0.0\n",
        "  iterator = eval_data.make_one_shot_iterator()\n",
        "  for labels, chars, sequence_length in tfe.Iterator(eval_data):\n",
        "    predictions = model((chars, sequence_length), training=False)\n",
        "    total_loss += loss_fn(labels, predictions)\n",
        "  print(\"eval/loss: %.6f\\n\" % total_loss)"
      ],
      "execution_count": 0,
      "outputs": []
    },
    {
      "metadata": {
        "id": "xG1FxnhD62N3",
        "colab_type": "text"
      },
      "cell_type": "markdown",
      "source": [
        "The next cell **trains** our `RNNColorbot`, **restoring and saving checkpoints** of the learned variables along the way. Thanks to checkpointing, every run of the below cell will resume training from wherever the previous run left off. For more on checkpointing, take a look at our [user guide](https://github.com/tensorflow/tensorflow/blob/master/tensorflow/contrib/eager/python/g3doc/guide.md#checkpointing-trained-variables)."
      ]
    },
    {
      "metadata": {
        "id": "W7wLw3nZsqKQ",
        "colab_type": "code",
        "colab": {
          "autoexec": {
            "startup": false,
            "wait_interval": 0
          },
          "output_extras": [
            {
              "item_id": 12
            }
          ],
          "base_uri": "https://localhost:8080/",
          "height": 306
        },
        "outputId": "aae32392-145b-477b-b762-f1188ef55945",
        "executionInfo": {
          "status": "ok",
          "timestamp": 1522345877249,
          "user_tz": 420,
          "elapsed": 37854,
          "user": {
            "displayName": "Akshay Agrawal",
            "photoUrl": "//lh4.googleusercontent.com/-Dxv7XqYbfoI/AAAAAAAAAAI/AAAAAAAAAN8/oFytAVJhTgY/s50-c-k-no/photo.jpg",
            "userId": "105384727845522134432"
          }
        }
      },
      "cell_type": "code",
      "source": [
        "model = RNNColorbot()\n",
        "optimizer = tf.train.AdamOptimizer(learning_rate=.01)\n",
        "\n",
        "# Create a `Checkpoint` for saving and restoring state; the keywords\n",
        "# supplied `Checkpoint`'s constructor are the names of the objects to be saved\n",
        "# and restored, and their corresponding values are the actual objects. Note\n",
        "# that we're saving `optimizer` in addition to `model`, since `AdamOptimizer`\n",
        "# maintains state.\n",
        "import tensorflow.contrib.eager as tfe\n",
        "checkpoint = tfe.Checkpoint(model=model, optimizer=optimizer)\n",
        "checkpoint_prefix = \"/tmp/rnn/ckpt\"\n",
        "# The next line loads the most recent checkpoint, if any.\n",
        "checkpoint.restore(tf.train.latest_checkpoint(\"/tmp/rnn\"))\n",
        "for epoch in range(4):\n",
        "  train_one_epoch(model, optimizer, train_data)\n",
        "  test(model, eval_data)\n",
        "  checkpoint.save(checkpoint_prefix)\n",
        "print(\"Colorbot is ready to generate colors!\")"
      ],
      "execution_count": 18,
      "outputs": [
        {
          "output_type": "stream",
          "text": [
            "train/batch #0\tloss: 0.072957\n",
            "train/batch #10\tloss: 0.093517\n",
            "eval/loss: 0.130037\n",
            "\n",
            "train/batch #0\tloss: 0.092697\n",
            "train/batch #10\tloss: 0.069149\n",
            "eval/loss: 0.126204\n",
            "\n",
            "train/batch #0\tloss: 0.077797\n",
            "train/batch #10\tloss: 0.074841\n",
            "eval/loss: 0.123298\n",
            "\n",
            "train/batch #0\tloss: 0.073640\n",
            "train/batch #10\tloss: 0.067813\n",
            "eval/loss: 0.132602\n",
            "\n",
            "Colorbot is ready to generate colors!\n"
          ],
          "name": "stdout"
        }
      ]
    },
    {
      "metadata": {
        "id": "1HdJk37R1xz9",
        "colab_type": "text"
      },
      "cell_type": "markdown",
      "source": [
        "### Paint me a color, Colorbot!\n",
        "\n",
        "We can interact with RNNColorbot in a natural way; no need to thread NumPy arrays into placeholders through feed dicts.\n",
        "So go ahead and ask RNNColorbot to paint you some colors. If they're not to your liking, re-run the previous cell to resume training from where we left off, and then re-run the next one for updated results."
      ]
    },
    {
      "metadata": {
        "id": "LXAYjopasyWr",
        "colab_type": "code",
        "colab": {
          "autoexec": {
            "startup": false,
            "wait_interval": 0
          },
          "output_extras": [
            {
              "item_id": 1
            },
            {
              "item_id": 2
            },
            {
              "item_id": 3
            },
            {
              "item_id": 4
            },
            {
              "item_id": 5
            },
            {
              "item_id": 6
            },
            {
              "item_id": 7
            },
            {
              "item_id": 8
            },
            {
              "item_id": 9
            },
            {
              "item_id": 11
            },
            {
              "item_id": 12
            },
            {
              "item_id": 13
            },
            {
              "item_id": 14
            },
            {
              "item_id": 15
            },
            {
              "item_id": 16
            },
            {
              "item_id": 17
            },
            {
              "item_id": 18
            },
            {
              "item_id": 19
            },
            {
              "item_id": 20
            },
            {
              "item_id": 21
            },
            {
              "item_id": 22
            },
            {
              "item_id": 23
            },
            {
              "item_id": 24
            }
          ],
          "resources": {
            "http://localhost:8080/nbextensions/google.colab/tabbar.css": {
              "data": "Lmdvb2ctdGFie3Bvc2l0aW9uOnJlbGF0aXZlO3BhZGRpbmc6NHB4IDhweDtjb2xvcjojMDBjO3RleHQtZGVjb3JhdGlvbjp1bmRlcmxpbmU7Y3Vyc29yOmRlZmF1bHR9Lmdvb2ctdGFiLWJhci10b3AgLmdvb2ctdGFie21hcmdpbjoxcHggNHB4IDAgMDtib3JkZXItYm90dG9tOjA7ZmxvYXQ6bGVmdH0uZ29vZy10YWItYmFyLXRvcDphZnRlciwuZ29vZy10YWItYmFyLWJvdHRvbTphZnRlcntjb250ZW50OiIgIjtkaXNwbGF5OmJsb2NrO2hlaWdodDowO2NsZWFyOmJvdGg7dmlzaWJpbGl0eTpoaWRkZW59Lmdvb2ctdGFiLWJhci1ib3R0b20gLmdvb2ctdGFie21hcmdpbjowIDRweCAxcHggMDtib3JkZXItdG9wOjA7ZmxvYXQ6bGVmdH0uZ29vZy10YWItYmFyLXN0YXJ0IC5nb29nLXRhYnttYXJnaW46MCAwIDRweCAxcHg7Ym9yZGVyLXJpZ2h0OjB9Lmdvb2ctdGFiLWJhci1lbmQgLmdvb2ctdGFie21hcmdpbjowIDFweCA0cHggMDtib3JkZXItbGVmdDowfS5nb29nLXRhYi1ob3ZlcntiYWNrZ3JvdW5kOiNlZWV9Lmdvb2ctdGFiLWRpc2FibGVke2NvbG9yOiM2NjZ9Lmdvb2ctdGFiLXNlbGVjdGVke2NvbG9yOiMwMDA7YmFja2dyb3VuZDojZmZmO3RleHQtZGVjb3JhdGlvbjpub25lO2ZvbnQtd2VpZ2h0OmJvbGQ7Ym9yZGVyOjFweCBzb2xpZCAjNmI5MGRhfS5nb29nLXRhYi1iYXItdG9we3BhZGRpbmctdG9wOjVweCFpbXBvcnRhbnQ7cGFkZGluZy1sZWZ0OjVweCFpbXBvcnRhbnQ7Ym9yZGVyLWJvdHRvbToxcHggc29saWQgIzZiOTBkYSFpbXBvcnRhbnR9Lmdvb2ctdGFiLWJhci10b3AgLmdvb2ctdGFiLXNlbGVjdGVke3RvcDoxcHg7bWFyZ2luLXRvcDowO3BhZGRpbmctYm90dG9tOjVweH0uZ29vZy10YWItYmFyLWJvdHRvbSAuZ29vZy10YWItc2VsZWN0ZWR7dG9wOi0xcHg7bWFyZ2luLWJvdHRvbTowO3BhZGRpbmctdG9wOjVweH0uZ29vZy10YWItYmFyLXN0YXJ0IC5nb29nLXRhYi1zZWxlY3RlZHtsZWZ0OjFweDttYXJnaW4tbGVmdDowO3BhZGRpbmctcmlnaHQ6OXB4fS5nb29nLXRhYi1iYXItZW5kIC5nb29nLXRhYi1zZWxlY3RlZHtsZWZ0Oi0xcHg7bWFyZ2luLXJpZ2h0OjA7cGFkZGluZy1sZWZ0OjlweH0uZ29vZy10YWItYmFye21hcmdpbjowO2JvcmRlcjowO3BhZGRpbmc6MDtsaXN0LXN0eWxlOm5vbmU7Y3Vyc29yOmRlZmF1bHQ7b3V0bGluZTpub25lO2JhY2tncm91bmQ6I2ViZWZmOX0uZ29vZy10YWItYmFyLWNsZWFye2NsZWFyOmJvdGg7aGVpZ2h0OjA7b3ZlcmZsb3c6aGlkZGVufS5nb29nLXRhYi1iYXItc3RhcnR7ZmxvYXQ6bGVmdH0uZ29vZy10YWItYmFyLWVuZHtmbG9hdDpyaWdodH0qIGh0bWwgLmdvb2ctdGFiLWJhci1zdGFydHttYXJnaW4tcmlnaHQ6LTNweH0qIGh0bWwgLmdvb2ctdGFiLWJhci1lbmR7bWFyZ2luLWxlZnQ6LTNweH0=",
              "ok": true,
              "headers": [
                [
                  "content-length",
                  "1394"
                ],
                [
                  "content-type",
                  "text/css"
                ]
              ],
              "status": 200,
              "status_text": ""
            },
            "http://localhost:8080/nbextensions/google.colab/tabbar_main.min.js": {
              "data": "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",
              "ok": true,
              "headers": [
                [
                  "content-type",
                  "application/javascript"
                ]
              ],
              "status": 200,
              "status_text": ""
            }
          },
          "base_uri": "https://localhost:8080/",
          "height": 436
        },
        "outputId": "a2253f34-dc3c-42e9-b409-8c31ec0f207e",
        "executionInfo": {
          "status": "ok",
          "timestamp": 1522345882699,
          "user_tz": 420,
          "elapsed": 5424,
          "user": {
            "displayName": "Akshay Agrawal",
            "photoUrl": "//lh4.googleusercontent.com/-Dxv7XqYbfoI/AAAAAAAAAAI/AAAAAAAAAN8/oFytAVJhTgY/s50-c-k-no/photo.jpg",
            "userId": "105384727845522134432"
          }
        }
      },
      "cell_type": "code",
      "source": [
        "tb = widgets.TabBar([\"RNN Colorbot\"])\n",
        "while True:\n",
        "  with tb.output_to(0):\n",
        "    try:\n",
        "      color_name = six.moves.input(\n",
        "          \"Give me a color name (or press 'enter' to exit): \")\n",
        "    except (EOFError, KeyboardInterrupt):\n",
        "      break\n",
        "  if not color_name:\n",
        "    break\n",
        "  _, chars, length = parse(color_name)\n",
        "  preds, = model((np.expand_dims(chars, 0), np.expand_dims(length, 0)),\n",
        "                 training=False)\n",
        "  clipped_preds = tuple(min(float(p), 1.0) for p in preds)\n",
        "  rgb = tuple(int(p * 255) for p in clipped_preds)\n",
        "  with tb.output_to(0):\n",
        "    tb.clear_tab()\n",
        "    print(\"Predicted RGB tuple:\", rgb)\n",
        "    plt.imshow([[clipped_preds]])\n",
        "    plt.title(color_name)\n",
        "    plt.show()"
      ],
      "execution_count": 19,
      "outputs": [
        {
          "output_type": "display_data",
          "data": {
            "text/html": [
              "<link rel=stylesheet type=text/css href='/nbextensions/google.colab/tabbar.css'></link>"
            ],
            "text/plain": [
              "<IPython.core.display.HTML object>"
            ]
          },
          "metadata": {
            "tags": [
              "outputarea_id2"
            ]
          }
        },
        {
          "output_type": "display_data",
          "data": {
            "text/html": [
              "<script src='/nbextensions/google.colab/tabbar_main.min.js'></script>"
            ],
            "text/plain": [
              "<IPython.core.display.HTML object>"
            ]
          },
          "metadata": {
            "tags": [
              "outputarea_id2"
            ]
          }
        },
        {
          "output_type": "display_data",
          "data": {
            "text/html": [
              "<div id=\"id2\"></div>"
            ],
            "text/plain": [
              "<IPython.core.display.HTML object>"
            ]
          },
          "metadata": {
            "tags": [
              "outputarea_id2"
            ]
          }
        },
        {
          "output_type": "display_data",
          "data": {
            "application/javascript": [
              "window[\"c7f1d82c-3379-11e8-a9b3-0242ac110002\"] = colab_lib.createTabBar({\"location\": \"top\", \"elementId\": \"id2\", \"tabNames\": [\"RNN Colorbot\"], \"initialSelection\": 0, \"contentBorder\": [\"0px\"], \"contentHeight\": [\"initial\"], \"borderColor\": [\"#a7a7a7\"]});\n",
              "//# sourceURL=js_4df7939147"
            ],
            "text/plain": [
              "<IPython.core.display.Javascript object>"
            ]
          },
          "metadata": {
            "tags": [
              "outputarea_id2"
            ]
          }
        },
        {
          "output_type": "display_data",
          "data": {
            "application/javascript": [
              "window[\"c7f25dec-3379-11e8-a9b3-0242ac110002\"] = window[\"id2\"].setSelectedTabIndex(0);\n",
              "//# sourceURL=js_77a0550a33"
            ],
            "text/plain": [
              "<IPython.core.display.Javascript object>"
            ]
          },
          "metadata": {
            "tags": [
              "outputarea_id2"
            ]
          }
        },
        {
          "output_type": "display_data",
          "data": {
            "application/javascript": [
              "window[\"c7f4de28-3379-11e8-a9b3-0242ac110002\"] = google.colab.output.getActiveOutputArea();\n",
              "//# sourceURL=js_89381a972e"
            ],
            "text/plain": [
              "<IPython.core.display.Javascript object>"
            ]
          },
          "metadata": {
            "tags": [
              "id2_content_0",
              "outputarea_id2"
            ]
          }
        },
        {
          "output_type": "display_data",
          "data": {
            "application/javascript": [
              "window[\"c7f55ccc-3379-11e8-a9b3-0242ac110002\"] = document.querySelector(\"#id2_content_0\");\n",
              "//# sourceURL=js_014ab48c40"
            ],
            "text/plain": [
              "<IPython.core.display.Javascript object>"
            ]
          },
          "metadata": {
            "tags": [
              "id2_content_0",
              "outputarea_id2"
            ]
          }
        },
        {
          "output_type": "display_data",
          "data": {
            "application/javascript": [
              "window[\"c7f63a34-3379-11e8-a9b3-0242ac110002\"] = google.colab.output.setActiveOutputArea(window[\"c7f55ccc-3379-11e8-a9b3-0242ac110002\"]);\n",
              "//# sourceURL=js_ae0a3d5b0a"
            ],
            "text/plain": [
              "<IPython.core.display.Javascript object>"
            ]
          },
          "metadata": {
            "tags": [
              "id2_content_0",
              "outputarea_id2"
            ]
          }
        },
        {
          "output_type": "display_data",
          "data": {
            "application/javascript": [
              "window[\"c7f7a95a-3379-11e8-a9b3-0242ac110002\"] = window[\"id2\"].setSelectedTabIndex(0);\n",
              "//# sourceURL=js_fe846c355e"
            ],
            "text/plain": [
              "<IPython.core.display.Javascript object>"
            ]
          },
          "metadata": {
            "tags": [
              "id2_content_0",
              "outputarea_id2"
            ]
          }
        },
        {
          "output_type": "display_data",
          "data": {
            "application/javascript": [
              "window[\"c98fa344-3379-11e8-a9b3-0242ac110002\"] = google.colab.output.setActiveOutputArea(window[\"c7f4de28-3379-11e8-a9b3-0242ac110002\"]);\n",
              "//# sourceURL=js_6946b20726"
            ],
            "text/plain": [
              "<IPython.core.display.Javascript object>"
            ]
          },
          "metadata": {
            "tags": [
              "id2_content_0",
              "outputarea_id2"
            ]
          }
        },
        {
          "output_type": "display_data",
          "data": {
            "application/javascript": [
              "window[\"c9948cce-3379-11e8-a9b3-0242ac110002\"] = google.colab.output.getActiveOutputArea();\n",
              "//# sourceURL=js_5cf2d429b2"
            ],
            "text/plain": [
              "<IPython.core.display.Javascript object>"
            ]
          },
          "metadata": {
            "tags": [
              "id2_content_0",
              "outputarea_id2"
            ]
          }
        },
        {
          "output_type": "display_data",
          "data": {
            "application/javascript": [
              "window[\"c9953cf0-3379-11e8-a9b3-0242ac110002\"] = document.querySelector(\"#id2_content_0\");\n",
              "//# sourceURL=js_c118267e5f"
            ],
            "text/plain": [
              "<IPython.core.display.Javascript object>"
            ]
          },
          "metadata": {
            "tags": [
              "id2_content_0",
              "outputarea_id2"
            ]
          }
        },
        {
          "output_type": "display_data",
          "data": {
            "application/javascript": [
              "window[\"c996098c-3379-11e8-a9b3-0242ac110002\"] = google.colab.output.setActiveOutputArea(window[\"c9953cf0-3379-11e8-a9b3-0242ac110002\"]);\n",
              "//# sourceURL=js_dc4d6ab290"
            ],
            "text/plain": [
              "<IPython.core.display.Javascript object>"
            ]
          },
          "metadata": {
            "tags": [
              "id2_content_0",
              "outputarea_id2"
            ]
          }
        },
        {
          "output_type": "display_data",
          "data": {
            "application/javascript": [
              "window[\"c996a1f8-3379-11e8-a9b3-0242ac110002\"] = window[\"id2\"].setSelectedTabIndex(0);\n",
              "//# sourceURL=js_025aae4f76"
            ],
            "text/plain": [
              "<IPython.core.display.Javascript object>"
            ]
          },
          "metadata": {
            "tags": [
              "id2_content_0",
              "outputarea_id2"
            ]
          }
        },
        {
          "output_type": "stream",
          "text": [
            "Predicted RGB tuple: (57, 118, 149)\n"
          ],
          "name": "stdout"
        },
        {
          "output_type": "display_data",
          "data": {
            "image/png": "[encoded data removed]",
            "text/plain": [
              "<matplotlib.figure.Figure at 0x7f54d525ba58>"
            ]
          },
          "metadata": {
            "tags": [
              "id2_content_0",
              "outputarea_id2",
              "user_output"
            ]
          }
        },
        {
          "output_type": "display_data",
          "data": {
            "application/javascript": [
              "window[\"c9aff3c4-3379-11e8-a9b3-0242ac110002\"] = google.colab.output.setActiveOutputArea(window[\"c9948cce-3379-11e8-a9b3-0242ac110002\"]);\n",
              "//# sourceURL=js_4b2f213764"
            ],
            "text/plain": [
              "<IPython.core.display.Javascript object>"
            ]
          },
          "metadata": {
            "tags": [
              "id2_content_0",
              "outputarea_id2"
            ]
          }
        },
        {
          "output_type": "display_data",
          "data": {
            "application/javascript": [
              "window[\"c9b218b6-3379-11e8-a9b3-0242ac110002\"] = google.colab.output.getActiveOutputArea();\n",
              "//# sourceURL=js_b9a88cd47a"
            ],
            "text/plain": [
              "<IPython.core.display.Javascript object>"
            ]
          },
          "metadata": {
            "tags": [
              "id2_content_0",
              "outputarea_id2"
            ]
          }
        },
        {
          "output_type": "display_data",
          "data": {
            "application/javascript": [
              "window[\"c9b26c26-3379-11e8-a9b3-0242ac110002\"] = document.querySelector(\"#id2_content_0\");\n",
              "//# sourceURL=js_545aca6d6c"
            ],
            "text/plain": [
              "<IPython.core.display.Javascript object>"
            ]
          },
          "metadata": {
            "tags": [
              "id2_content_0",
              "outputarea_id2"
            ]
          }
        },
        {
          "output_type": "display_data",
          "data": {
            "application/javascript": [
              "window[\"c9b2c31a-3379-11e8-a9b3-0242ac110002\"] = google.colab.output.setActiveOutputArea(window[\"c9b26c26-3379-11e8-a9b3-0242ac110002\"]);\n",
              "//# sourceURL=js_8cb312fca4"
            ],
            "text/plain": [
              "<IPython.core.display.Javascript object>"
            ]
          },
          "metadata": {
            "tags": [
              "id2_content_0",
              "outputarea_id2"
            ]
          }
        },
        {
          "output_type": "display_data",
          "data": {
            "application/javascript": [
              "window[\"c9b319a0-3379-11e8-a9b3-0242ac110002\"] = window[\"id2\"].setSelectedTabIndex(0);\n",
              "//# sourceURL=js_201ebae75e"
            ],
            "text/plain": [
              "<IPython.core.display.Javascript object>"
            ]
          },
          "metadata": {
            "tags": [
              "id2_content_0",
              "outputarea_id2"
            ]
          }
        },
        {
          "output_type": "stream",
          "text": [
            "Give me a color name (or press 'enter' to exit): \n"
          ],
          "name": "stdout"
        },
        {
          "output_type": "display_data",
          "data": {
            "application/javascript": [
              "window[\"caf65d68-3379-11e8-a9b3-0242ac110002\"] = google.colab.output.setActiveOutputArea(window[\"c9b218b6-3379-11e8-a9b3-0242ac110002\"]);\n",
              "//# sourceURL=js_d8614bfc74"
            ],
            "text/plain": [
              "<IPython.core.display.Javascript object>"
            ]
          },
          "metadata": {
            "tags": [
              "id2_content_0",
              "outputarea_id2"
            ]
          }
        }
      ]
    },
    {
      "metadata": {
        "id": "aJopbdYiXXQM",
        "colab_type": "text"
      },
      "cell_type": "markdown",
      "source": [
        "# 4. Exercises"
      ]
    },
    {
      "metadata": {
        "id": "Nt2bZ3SNq0bl",
        "colab_type": "text"
      },
      "cell_type": "markdown",
      "source": [
        "### Exercise 1: Batching\n",
        "\n",
        "Executing operations eagerly incurs small overheads; these overheads become neglible when amortized over batched operations. In this exercise, we explore the relationship between batching and performance by revisiting our Huber regression example."
      ]
    },
    {
      "metadata": {
        "id": "U5NR8vOY-4Xx",
        "colab_type": "code",
        "colab": {
          "autoexec": {
            "startup": false,
            "wait_interval": 0
          }
        }
      },
      "cell_type": "code",
      "source": [
        "# Our original implementation of `huber_loss` is not compatible with non-scalar\n",
        "# data. Your task is to fix that. For your convenience, the original\n",
        "# implementation is reproduced below.\n",
        "#\n",
        "#   def huber_loss(y, y_hat, m=1.0):\n",
        "#     delta = tf.abs(y - y_hat)\n",
        "#     return delta ** 2 if delta <= m else m * (2 * delta - m)\n",
        "#\n",
        "def batched_huber_loss(y, y_hat, m=1.0):\n",
        "  # TODO: Uncomment out the below code and replace `...` with your solution.\n",
        "  # Hint: Tensors are immutable.\n",
        "  # Hint: `tf.where` might be useful.\n",
        "  delta = tf.abs(y - y_hat)\n",
        "  # ...\n",
        "  # ...\n",
        "  # return ...\n",
        "  \n",
        "regression = Regression(batched_huber_loss)\n",
        "\n",
        "num_epochs = 4\n",
        "batch_sizes = [1, 10, 20, 100, 200, 500, 1000]\n",
        "times = []\n",
        "\n",
        "X, Y = gen_regression_data(num_examples=1000)\n",
        "dataset = tf.data.Dataset.from_tensor_slices((X, Y))\n",
        "optimizer = tf.train.GradientDescentOptimizer(learning_rate=0.0001)\n",
        "for size in batch_sizes:\n",
        "  batched_dataset = dataset.batch(size)\n",
        "  start = time.time()\n",
        "  regress(model=regression, optimizer=optimizer, dataset=batched_dataset,\n",
        "          epochs=num_epochs, log_every=None)\n",
        "  end = time.time()\n",
        "  times.append((end - start) / num_epochs)\n",
        "  regression.w.assign(0.0)\n",
        "  regression.b.assign(0.0)\n",
        "  \n",
        "plt.figure()\n",
        "plt.plot(batch_sizes, times, \"bo\")\n",
        "plt.xlabel(\"batch size\")\n",
        "plt.ylabel(\"time (seconds)\")\n",
        "plt.semilogx()\n",
        "plt.semilogy()\n",
        "plt.title(\"Time per Epoch vs. Batch Size\")\n",
        "plt.show()"
      ],
      "execution_count": 0,
      "outputs": []
    },
    {
      "metadata": {
        "id": "-aH9GM4G-c56",
        "colab_type": "text"
      },
      "cell_type": "markdown",
      "source": [
        "#### Solution"
      ]
    },
    {
      "metadata": {
        "id": "MqqhJplCBxNC",
        "colab_type": "code",
        "colab": {
          "autoexec": {
            "startup": false,
            "wait_interval": 0
          }
        }
      },
      "cell_type": "code",
      "source": [
        "def batched_huber_loss(y, y_hat, m=1.0):\n",
        "  delta = tf.abs(y - y_hat)\n",
        "  quadratic = delta ** 2\n",
        "  linear =  m * (2 * delta - m)\n",
        "  return tf.reduce_mean(tf.where(delta <= m, quadratic, linear))\n",
        "  \n",
        "regression = Regression(batched_huber_loss)\n",
        "\n",
        "num_epochs = 4\n",
        "batch_sizes = [2, 10, 20, 100, 200, 500, 1000]\n",
        "times = []\n",
        "\n",
        "X, Y = gen_regression_data(num_examples=1000)\n",
        "dataset = tf.data.Dataset.from_tensor_slices((X, Y))\n",
        "optimizer = tf.train.GradientDescentOptimizer(learning_rate=0.0001)\n",
        "for size in batch_sizes:\n",
        "  batched_dataset = dataset.batch(size)\n",
        "  start = time.time()\n",
        "  regress(model=regression, optimizer=optimizer, dataset=batched_dataset,\n",
        "          epochs=num_epochs, log_every=None)\n",
        "  end = time.time()\n",
        "  times.append((end - start) / num_epochs)\n",
        "  regression.w.assign(0.0)\n",
        "  regression.b.assign(0.0)\n",
        "  \n",
        "plt.figure()\n",
        "plt.plot(batch_sizes, times, \"bo\")\n",
        "plt.xlabel(\"batch size\")\n",
        "plt.ylabel(\"time (seconds)\")\n",
        "plt.semilogx()\n",
        "plt.semilogy()\n",
        "plt.title(\"Time per Epoch vs. Batch Size\")\n",
        "plt.show()"
      ],
      "execution_count": 0,
      "outputs": []
    },
    {
      "metadata": {
        "id": "YbL8CZNp-pvH",
        "colab_type": "text"
      },
      "cell_type": "markdown",
      "source": [
        "### Exercise 2: Model Debugging\n",
        "\n",
        "We've heard you loud and clear: TensorFlow programs that construct and execute graphs are difficult to debug. By design, enabling eager execution vastly simplifies the process of debugging TensorFlow programs. Once eager execution is enabled, you can step through your models using `pdb` and bisect them with `print` statements. The best way to understand the extent to which eager execution simplifies debugging is to debug a model yourself. `BuggyModel` below has two bugs lurking in it. Execute the following cell, read the error message, and go hunt some bugs!\n",
        "\n",
        "*Hint: As is often the case with TensorFlow programs, both bugs are related to the shapes of Tensors.*\n",
        "\n",
        "*Hint: You might find `tf.layers.flatten` useful.*"
      ]
    },
    {
      "metadata": {
        "id": "Aa9HIamW-m3t",
        "colab_type": "code",
        "colab": {
          "autoexec": {
            "startup": false,
            "wait_interval": 0
          }
        }
      },
      "cell_type": "code",
      "source": [
        "class BuggyModel(tf.keras.Model):\n",
        "   def __init__(self):\n",
        "    super(BuggyModel, self).__init__()\n",
        "    self._input_shape = [-1, 28, 28, 1]\n",
        "    self.conv = tf.layers.Conv2D(filters=32, kernel_size=5, padding=\"same\",\n",
        "                                 data_format=\"channels_last\")\n",
        "    self.fc = tf.layers.Dense(10)\n",
        "    self.max_pool2d = tf.layers.MaxPooling2D(\n",
        "        (2, 2), (2, 2), padding=\"same\", data_format=\"channels_last\")\n",
        "    \n",
        "  def call(self, inputs):\n",
        "    y = inputs\n",
        "    y = self.conv(y)\n",
        "    y = self.max_pool2d(y)\n",
        "    return self.fc(y)\n",
        "  \n",
        "buggy_model = BuggyModel()\n",
        "inputs = tf.random_normal(shape=(100, 28, 28))\n",
        "outputs = buggy_model(inputs)\n",
        "assert outputs.shape == (100, 10), \"invalid output shape: %s\" % outputs.shape"
      ],
      "execution_count": 0,
      "outputs": []
    },
    {
      "metadata": {
        "id": "ja8aFOnYsKez",
        "colab_type": "text"
      },
      "cell_type": "markdown",
      "source": [
        "#### Solution"
      ]
    },
    {
      "metadata": {
        "id": "J7z8JbrRltzV",
        "colab_type": "code",
        "colab": {
          "autoexec": {
            "startup": false,
            "wait_interval": 0
          }
        },
        "cellView": "code"
      },
      "cell_type": "code",
      "source": [
        "class BuggyModel(tf.keras.Model):\n",
        "  def __init__(self):\n",
        "    super(BuggyModel, self).__init__()\n",
        "    self._input_shape = [-1, 28, 28, 1]\n",
        "    self.conv = tf.layers.Conv2D(filters=32, kernel_size=5, padding=\"same\",\n",
        "                                 data_format=\"channels_last\")\n",
        "    self.fc = tf.layers.Dense(10)\n",
        "    self.max_pool2d = tf.layers.MaxPooling2D(\n",
        "        (2, 2), (2, 2), padding=\"same\", data_format=\"channels_last\")\n",
        "    \n",
        "  def call(self, inputs):\n",
        "    y = tf.reshape(inputs, self._input_shape)\n",
        "    y = self.conv(y)\n",
        "    y = self.max_pool2d(y)\n",
        "    y = tf.layers.flatten(y)\n",
        "    return self.fc(y)\n",
        "  \n",
        "buggy_model = BuggyModel()\n",
        "inputs = tf.random_normal(shape=(100, 28, 28))\n",
        "outputs = buggy_model(inputs)\n",
        "assert outputs.shape == (100, 10), \"invalid output shape: %s\" % outputs.shape"
      ],
      "execution_count": 0,
      "outputs": []
    },
    {
      "metadata": {
        "id": "G-Ubr-Gfturc",
        "colab_type": "text"
      },
      "cell_type": "markdown",
      "source": [
        "# 5. Further reading\n",
        "\n",
        "If you'd like to learn more about eager execution, consider reading ...\n",
        "\n",
        "\n",
        "\n",
        "*   our [user guide](https://github.com/tensorflow/tensorflow/blob/master/tensorflow/contrib/eager/python/g3doc/guide.md);\n",
        "*   our [collection of example models](https://github.com/tensorflow/tensorflow/tree/master/tensorflow/contrib/eager/python/examples), which includes a convolutional model for [MNIST](https://github.com/tensorflow/tensorflow/tree/master/tensorflow/contrib/eager/python/examples/mnist) classification, a [GAN](https://github.com/tensorflow/tensorflow/tree/master/tensorflow/contrib/eager/python/examples/gan), a [recursive neural network](https://github.com/tensorflow/tensorflow/tree/master/tensorflow/contrib/eager/python/examples/spinn), and more;\n",
        "*  [this advanced notebook](https://colab.research.com/github/tensorflow/tensorflow/blob/master/tensorflow/contrib/autograph/examples/notebooks/dev_summit_2018_demo.ipynb), which explains how to build and execute graphs while eager execution is enabled and how to call into eager execution while constructing a graph, and which also introduces Autograph, a source-code translation tool that automatically generates graph-construction code from dynamic eager code.\n",
        "\n",
        "\n"
      ]
    }
  ]
}
